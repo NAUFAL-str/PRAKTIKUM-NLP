{
  "nbformat": 4,
  "nbformat_minor": 0,
  "metadata": {
    "colab": {
      "provenance": []
    },
    "kernelspec": {
      "name": "python3",
      "display_name": "Python 3"
    },
    "language_info": {
      "name": "python"
    }
  },
  "cells": [
    {
      "cell_type": "code",
      "source": [
        "pip install fasttext"
      ],
      "metadata": {
        "colab": {
          "base_uri": "https://localhost:8080/"
        },
        "id": "KMqmTpwJLrMX",
        "outputId": "32a814a7-629e-4c5c-e498-dd4f35523df7"
      },
      "execution_count": null,
      "outputs": [
        {
          "output_type": "stream",
          "name": "stdout",
          "text": [
            "Collecting fasttext\n",
            "  Downloading fasttext-0.9.2.tar.gz (68 kB)\n",
            "\u001b[2K     \u001b[90m━━━━━━━━━━━━━━━━━━━━━━━━━━━━━━━━━━━━━━━━\u001b[0m \u001b[32m68.8/68.8 kB\u001b[0m \u001b[31m481.5 kB/s\u001b[0m eta \u001b[36m0:00:00\u001b[0m\n",
            "\u001b[?25h  Preparing metadata (setup.py) ... \u001b[?25l\u001b[?25hdone\n",
            "Collecting pybind11>=2.2 (from fasttext)\n",
            "  Using cached pybind11-2.11.1-py3-none-any.whl (227 kB)\n",
            "Requirement already satisfied: setuptools>=0.7.0 in /usr/local/lib/python3.10/dist-packages (from fasttext) (67.7.2)\n",
            "Requirement already satisfied: numpy in /usr/local/lib/python3.10/dist-packages (from fasttext) (1.23.5)\n",
            "Building wheels for collected packages: fasttext\n",
            "  Building wheel for fasttext (setup.py) ... \u001b[?25l\u001b[?25hdone\n",
            "  Created wheel for fasttext: filename=fasttext-0.9.2-cp310-cp310-linux_x86_64.whl size=4199772 sha256=ba7e2b52651b91c386d6f0d2f5ca797679598b601aa6adcd0566ca8c4aba2a1d\n",
            "  Stored in directory: /root/.cache/pip/wheels/a5/13/75/f811c84a8ab36eedbaef977a6a58a98990e8e0f1967f98f394\n",
            "Successfully built fasttext\n",
            "Installing collected packages: pybind11, fasttext\n",
            "Successfully installed fasttext-0.9.2 pybind11-2.11.1\n"
          ]
        }
      ]
    },
    {
      "cell_type": "code",
      "source": [
        "pip install nltk"
      ],
      "metadata": {
        "colab": {
          "base_uri": "https://localhost:8080/"
        },
        "id": "oRW8-Jys7eYR",
        "outputId": "a0b6ce87-52c6-4022-f2ea-db5c1b6a69b5"
      },
      "execution_count": null,
      "outputs": [
        {
          "output_type": "stream",
          "name": "stdout",
          "text": [
            "Requirement already satisfied: nltk in /usr/local/lib/python3.10/dist-packages (3.8.1)\n",
            "Requirement already satisfied: click in /usr/local/lib/python3.10/dist-packages (from nltk) (8.1.7)\n",
            "Requirement already satisfied: joblib in /usr/local/lib/python3.10/dist-packages (from nltk) (1.3.2)\n",
            "Requirement already satisfied: regex>=2021.8.3 in /usr/local/lib/python3.10/dist-packages (from nltk) (2023.6.3)\n",
            "Requirement already satisfied: tqdm in /usr/local/lib/python3.10/dist-packages (from nltk) (4.66.1)\n"
          ]
        }
      ]
    },
    {
      "cell_type": "code",
      "source": [
        "nltk.download('punkt')"
      ],
      "metadata": {
        "colab": {
          "base_uri": "https://localhost:8080/"
        },
        "id": "Nss4zSXZ7x5i",
        "outputId": "888bda39-28af-4aa7-ab7d-6b1168637ea9"
      },
      "execution_count": null,
      "outputs": [
        {
          "output_type": "stream",
          "name": "stderr",
          "text": [
            "[nltk_data] Downloading package punkt to /root/nltk_data...\n",
            "[nltk_data]   Unzipping tokenizers/punkt.zip.\n"
          ]
        },
        {
          "output_type": "execute_result",
          "data": {
            "text/plain": [
              "True"
            ]
          },
          "metadata": {},
          "execution_count": 5
        }
      ]
    },
    {
      "cell_type": "code",
      "source": [
        "import re\n",
        "import string\n",
        "import nltk\n",
        "import gensim\n",
        "import fasttext\n",
        "import itertools\n",
        "import numpy as np\n",
        "import pandas as pd\n",
        "import seaborn as sns\n",
        "import tensorflow as tf\n",
        "from nltk.corpus import stopwords\n",
        "from nltk import bigrams\n",
        "from tensorflow import keras\n",
        "import matplotlib.pyplot as plt\n",
        "from nltk.tokenize import word_tokenize\n",
        "from tensorflow.keras.models import Sequential\n",
        "from gensim.models import Word2Vec, KeyedVectors\n",
        "from sklearn.ensemble import RandomForestClassifier\n",
        "from sklearn.model_selection import train_test_split\n",
        "from tensorflow.keras.preprocessing.text import Tokenizer\n",
        "from tensorflow.keras.preprocessing.sequence import pad_sequences\n",
        "from tensorflow.keras.layers import Embedding, Bidirectional, LSTM, Dense\n",
        "from sklearn.metrics import accuracy_score, confusion_matrix, classification_report\n",
        "from sklearn.feature_extraction.text import CountVectorizer, TfidfVectorizer, HashingVectorizer"
      ],
      "metadata": {
        "id": "qqp4EHo1LqbY"
      },
      "execution_count": null,
      "outputs": []
    },
    {
      "cell_type": "code",
      "source": [
        "pip install PyPDF2\n"
      ],
      "metadata": {
        "colab": {
          "base_uri": "https://localhost:8080/"
        },
        "id": "A2fOX9ojzVio",
        "outputId": "63446730-4e01-4c97-f4bb-4f9d7cc683e5"
      },
      "execution_count": null,
      "outputs": [
        {
          "output_type": "stream",
          "name": "stdout",
          "text": [
            "Collecting PyPDF2\n",
            "  Downloading pypdf2-3.0.1-py3-none-any.whl (232 kB)\n",
            "\u001b[2K     \u001b[90m━━━━━━━━━━━━━━━━━━━━━━━━━━━━━━━━━━━━━━━━\u001b[0m \u001b[32m232.6/232.6 kB\u001b[0m \u001b[31m2.2 MB/s\u001b[0m eta \u001b[36m0:00:00\u001b[0m\n",
            "\u001b[?25hInstalling collected packages: PyPDF2\n",
            "Successfully installed PyPDF2-3.0.1\n"
          ]
        }
      ]
    },
    {
      "cell_type": "markdown",
      "source": [
        "## **Ekstrak teks PDF**\n",
        "\n",
        "Ekstraksi dilakukan agar segala tulisan didalam file dapat diambil untuk selanjutnya diproses. Ekstraksi dilakukan dengan mencari per kalimat yang selanjutnya ditampung ke dalam kolom 'Kalimat' dalam dataframe (df)"
      ],
      "metadata": {
        "id": "73_L8jolQK52"
      }
    },
    {
      "cell_type": "code",
      "source": [
        "import PyPDF2\n",
        "import pandas as pd\n",
        "def extract_sentences (pdf_path):\n",
        "    data = {'Kalimat': []}\n",
        "\n",
        "    with open(pdf_path, 'rb') as file:\n",
        "      pdf_reader = PyPDF2.PdfReader (file)\n",
        "\n",
        "      for page_num in range(len (pdf_reader.pages)):\n",
        "        page=pdf_reader.pages [page_num]\n",
        "        text= page.extract_text()\n",
        "\n",
        "        # Split text into sentences\n",
        "        sentences = text.split('.')\n",
        "        # Add sentences to the data dictionary\n",
        "        data[ 'Kalimat'].extend(sentences)\n",
        "    return pd.DataFrame (data)\n",
        "# Example usage\n",
        "pdf_path='/content/MALIN_KUNDANG.pdf'\n",
        "df = extract_sentences(pdf_path)\n",
        "# Display the DataFrame print (df)\n",
        "df\n"
      ],
      "metadata": {
        "colab": {
          "base_uri": "https://localhost:8080/",
          "height": 424
        },
        "id": "rAZPtZf-zFbx",
        "outputId": "bcd9d3ad-11d3-445d-d544-c133cac50317"
      },
      "execution_count": null,
      "outputs": [
        {
          "output_type": "execute_result",
          "data": {
            "text/plain": [
              "                                                Kalimat\n",
              "0     MALIN KUNDANG \\nPada suatu waktu, hiduplah seb...\n",
              "1      Keluarga tersebut terdiri \\ndari ayah, ibu da...\n",
              "2      Karena kondisi keuangan keluarga yang \\nmempr...\n",
              "3     \\nMaka tinggallah si Malin dan ibunya di gubug...\n",
              "4      Semingg u, dua minggu, sebulan, dua \\nbulan b...\n",
              "...                                                 ...\n",
              "3734   Tubuh Prabu Dewata Cengkar dilempar Aji Saka ...\n",
              "3735   \\nAji Saka kemudian dinobatkan menjadi raja M...\n",
              "3736                  I a memboyong ayahnya ke \\nistana\n",
              "3737   Berkat pemerintahan yang adil dan bijaksana, ...\n",
              "3738                                                   \n",
              "\n",
              "[3739 rows x 1 columns]"
            ],
            "text/html": [
              "\n",
              "  <div id=\"df-22814751-2ee9-4fe5-ba0e-e5db8610d7f9\" class=\"colab-df-container\">\n",
              "    <div>\n",
              "<style scoped>\n",
              "    .dataframe tbody tr th:only-of-type {\n",
              "        vertical-align: middle;\n",
              "    }\n",
              "\n",
              "    .dataframe tbody tr th {\n",
              "        vertical-align: top;\n",
              "    }\n",
              "\n",
              "    .dataframe thead th {\n",
              "        text-align: right;\n",
              "    }\n",
              "</style>\n",
              "<table border=\"1\" class=\"dataframe\">\n",
              "  <thead>\n",
              "    <tr style=\"text-align: right;\">\n",
              "      <th></th>\n",
              "      <th>Kalimat</th>\n",
              "    </tr>\n",
              "  </thead>\n",
              "  <tbody>\n",
              "    <tr>\n",
              "      <th>0</th>\n",
              "      <td>MALIN KUNDANG \\nPada suatu waktu, hiduplah seb...</td>\n",
              "    </tr>\n",
              "    <tr>\n",
              "      <th>1</th>\n",
              "      <td>Keluarga tersebut terdiri \\ndari ayah, ibu da...</td>\n",
              "    </tr>\n",
              "    <tr>\n",
              "      <th>2</th>\n",
              "      <td>Karena kondisi keuangan keluarga yang \\nmempr...</td>\n",
              "    </tr>\n",
              "    <tr>\n",
              "      <th>3</th>\n",
              "      <td>\\nMaka tinggallah si Malin dan ibunya di gubug...</td>\n",
              "    </tr>\n",
              "    <tr>\n",
              "      <th>4</th>\n",
              "      <td>Semingg u, dua minggu, sebulan, dua \\nbulan b...</td>\n",
              "    </tr>\n",
              "    <tr>\n",
              "      <th>...</th>\n",
              "      <td>...</td>\n",
              "    </tr>\n",
              "    <tr>\n",
              "      <th>3734</th>\n",
              "      <td>Tubuh Prabu Dewata Cengkar dilempar Aji Saka ...</td>\n",
              "    </tr>\n",
              "    <tr>\n",
              "      <th>3735</th>\n",
              "      <td>\\nAji Saka kemudian dinobatkan menjadi raja M...</td>\n",
              "    </tr>\n",
              "    <tr>\n",
              "      <th>3736</th>\n",
              "      <td>I a memboyong ayahnya ke \\nistana</td>\n",
              "    </tr>\n",
              "    <tr>\n",
              "      <th>3737</th>\n",
              "      <td>Berkat pemerintahan yang adil dan bijaksana, ...</td>\n",
              "    </tr>\n",
              "    <tr>\n",
              "      <th>3738</th>\n",
              "      <td></td>\n",
              "    </tr>\n",
              "  </tbody>\n",
              "</table>\n",
              "<p>3739 rows × 1 columns</p>\n",
              "</div>\n",
              "    <div class=\"colab-df-buttons\">\n",
              "\n",
              "  <div class=\"colab-df-container\">\n",
              "    <button class=\"colab-df-convert\" onclick=\"convertToInteractive('df-22814751-2ee9-4fe5-ba0e-e5db8610d7f9')\"\n",
              "            title=\"Convert this dataframe to an interactive table.\"\n",
              "            style=\"display:none;\">\n",
              "\n",
              "  <svg xmlns=\"http://www.w3.org/2000/svg\" height=\"24px\" viewBox=\"0 -960 960 960\">\n",
              "    <path d=\"M120-120v-720h720v720H120Zm60-500h600v-160H180v160Zm220 220h160v-160H400v160Zm0 220h160v-160H400v160ZM180-400h160v-160H180v160Zm440 0h160v-160H620v160ZM180-180h160v-160H180v160Zm440 0h160v-160H620v160Z\"/>\n",
              "  </svg>\n",
              "    </button>\n",
              "\n",
              "  <style>\n",
              "    .colab-df-container {\n",
              "      display:flex;\n",
              "      gap: 12px;\n",
              "    }\n",
              "\n",
              "    .colab-df-convert {\n",
              "      background-color: #E8F0FE;\n",
              "      border: none;\n",
              "      border-radius: 50%;\n",
              "      cursor: pointer;\n",
              "      display: none;\n",
              "      fill: #1967D2;\n",
              "      height: 32px;\n",
              "      padding: 0 0 0 0;\n",
              "      width: 32px;\n",
              "    }\n",
              "\n",
              "    .colab-df-convert:hover {\n",
              "      background-color: #E2EBFA;\n",
              "      box-shadow: 0px 1px 2px rgba(60, 64, 67, 0.3), 0px 1px 3px 1px rgba(60, 64, 67, 0.15);\n",
              "      fill: #174EA6;\n",
              "    }\n",
              "\n",
              "    .colab-df-buttons div {\n",
              "      margin-bottom: 4px;\n",
              "    }\n",
              "\n",
              "    [theme=dark] .colab-df-convert {\n",
              "      background-color: #3B4455;\n",
              "      fill: #D2E3FC;\n",
              "    }\n",
              "\n",
              "    [theme=dark] .colab-df-convert:hover {\n",
              "      background-color: #434B5C;\n",
              "      box-shadow: 0px 1px 3px 1px rgba(0, 0, 0, 0.15);\n",
              "      filter: drop-shadow(0px 1px 2px rgba(0, 0, 0, 0.3));\n",
              "      fill: #FFFFFF;\n",
              "    }\n",
              "  </style>\n",
              "\n",
              "    <script>\n",
              "      const buttonEl =\n",
              "        document.querySelector('#df-22814751-2ee9-4fe5-ba0e-e5db8610d7f9 button.colab-df-convert');\n",
              "      buttonEl.style.display =\n",
              "        google.colab.kernel.accessAllowed ? 'block' : 'none';\n",
              "\n",
              "      async function convertToInteractive(key) {\n",
              "        const element = document.querySelector('#df-22814751-2ee9-4fe5-ba0e-e5db8610d7f9');\n",
              "        const dataTable =\n",
              "          await google.colab.kernel.invokeFunction('convertToInteractive',\n",
              "                                                    [key], {});\n",
              "        if (!dataTable) return;\n",
              "\n",
              "        const docLinkHtml = 'Like what you see? Visit the ' +\n",
              "          '<a target=\"_blank\" href=https://colab.research.google.com/notebooks/data_table.ipynb>data table notebook</a>'\n",
              "          + ' to learn more about interactive tables.';\n",
              "        element.innerHTML = '';\n",
              "        dataTable['output_type'] = 'display_data';\n",
              "        await google.colab.output.renderOutput(dataTable, element);\n",
              "        const docLink = document.createElement('div');\n",
              "        docLink.innerHTML = docLinkHtml;\n",
              "        element.appendChild(docLink);\n",
              "      }\n",
              "    </script>\n",
              "  </div>\n",
              "\n",
              "\n",
              "<div id=\"df-6280c499-5955-4ab8-8922-371159a5f00f\">\n",
              "  <button class=\"colab-df-quickchart\" onclick=\"quickchart('df-6280c499-5955-4ab8-8922-371159a5f00f')\"\n",
              "            title=\"Suggest charts\"\n",
              "            style=\"display:none;\">\n",
              "\n",
              "<svg xmlns=\"http://www.w3.org/2000/svg\" height=\"24px\"viewBox=\"0 0 24 24\"\n",
              "     width=\"24px\">\n",
              "    <g>\n",
              "        <path d=\"M19 3H5c-1.1 0-2 .9-2 2v14c0 1.1.9 2 2 2h14c1.1 0 2-.9 2-2V5c0-1.1-.9-2-2-2zM9 17H7v-7h2v7zm4 0h-2V7h2v10zm4 0h-2v-4h2v4z\"/>\n",
              "    </g>\n",
              "</svg>\n",
              "  </button>\n",
              "\n",
              "<style>\n",
              "  .colab-df-quickchart {\n",
              "      --bg-color: #E8F0FE;\n",
              "      --fill-color: #1967D2;\n",
              "      --hover-bg-color: #E2EBFA;\n",
              "      --hover-fill-color: #174EA6;\n",
              "      --disabled-fill-color: #AAA;\n",
              "      --disabled-bg-color: #DDD;\n",
              "  }\n",
              "\n",
              "  [theme=dark] .colab-df-quickchart {\n",
              "      --bg-color: #3B4455;\n",
              "      --fill-color: #D2E3FC;\n",
              "      --hover-bg-color: #434B5C;\n",
              "      --hover-fill-color: #FFFFFF;\n",
              "      --disabled-bg-color: #3B4455;\n",
              "      --disabled-fill-color: #666;\n",
              "  }\n",
              "\n",
              "  .colab-df-quickchart {\n",
              "    background-color: var(--bg-color);\n",
              "    border: none;\n",
              "    border-radius: 50%;\n",
              "    cursor: pointer;\n",
              "    display: none;\n",
              "    fill: var(--fill-color);\n",
              "    height: 32px;\n",
              "    padding: 0;\n",
              "    width: 32px;\n",
              "  }\n",
              "\n",
              "  .colab-df-quickchart:hover {\n",
              "    background-color: var(--hover-bg-color);\n",
              "    box-shadow: 0 1px 2px rgba(60, 64, 67, 0.3), 0 1px 3px 1px rgba(60, 64, 67, 0.15);\n",
              "    fill: var(--button-hover-fill-color);\n",
              "  }\n",
              "\n",
              "  .colab-df-quickchart-complete:disabled,\n",
              "  .colab-df-quickchart-complete:disabled:hover {\n",
              "    background-color: var(--disabled-bg-color);\n",
              "    fill: var(--disabled-fill-color);\n",
              "    box-shadow: none;\n",
              "  }\n",
              "\n",
              "  .colab-df-spinner {\n",
              "    border: 2px solid var(--fill-color);\n",
              "    border-color: transparent;\n",
              "    border-bottom-color: var(--fill-color);\n",
              "    animation:\n",
              "      spin 1s steps(1) infinite;\n",
              "  }\n",
              "\n",
              "  @keyframes spin {\n",
              "    0% {\n",
              "      border-color: transparent;\n",
              "      border-bottom-color: var(--fill-color);\n",
              "      border-left-color: var(--fill-color);\n",
              "    }\n",
              "    20% {\n",
              "      border-color: transparent;\n",
              "      border-left-color: var(--fill-color);\n",
              "      border-top-color: var(--fill-color);\n",
              "    }\n",
              "    30% {\n",
              "      border-color: transparent;\n",
              "      border-left-color: var(--fill-color);\n",
              "      border-top-color: var(--fill-color);\n",
              "      border-right-color: var(--fill-color);\n",
              "    }\n",
              "    40% {\n",
              "      border-color: transparent;\n",
              "      border-right-color: var(--fill-color);\n",
              "      border-top-color: var(--fill-color);\n",
              "    }\n",
              "    60% {\n",
              "      border-color: transparent;\n",
              "      border-right-color: var(--fill-color);\n",
              "    }\n",
              "    80% {\n",
              "      border-color: transparent;\n",
              "      border-right-color: var(--fill-color);\n",
              "      border-bottom-color: var(--fill-color);\n",
              "    }\n",
              "    90% {\n",
              "      border-color: transparent;\n",
              "      border-bottom-color: var(--fill-color);\n",
              "    }\n",
              "  }\n",
              "</style>\n",
              "\n",
              "  <script>\n",
              "    async function quickchart(key) {\n",
              "      const quickchartButtonEl =\n",
              "        document.querySelector('#' + key + ' button');\n",
              "      quickchartButtonEl.disabled = true;  // To prevent multiple clicks.\n",
              "      quickchartButtonEl.classList.add('colab-df-spinner');\n",
              "      try {\n",
              "        const charts = await google.colab.kernel.invokeFunction(\n",
              "            'suggestCharts', [key], {});\n",
              "      } catch (error) {\n",
              "        console.error('Error during call to suggestCharts:', error);\n",
              "      }\n",
              "      quickchartButtonEl.classList.remove('colab-df-spinner');\n",
              "      quickchartButtonEl.classList.add('colab-df-quickchart-complete');\n",
              "    }\n",
              "    (() => {\n",
              "      let quickchartButtonEl =\n",
              "        document.querySelector('#df-6280c499-5955-4ab8-8922-371159a5f00f button');\n",
              "      quickchartButtonEl.style.display =\n",
              "        google.colab.kernel.accessAllowed ? 'block' : 'none';\n",
              "    })();\n",
              "  </script>\n",
              "</div>\n",
              "    </div>\n",
              "  </div>\n"
            ]
          },
          "metadata": {},
          "execution_count": 9
        }
      ]
    },
    {
      "cell_type": "markdown",
      "source": [
        "## **Pre-processing**\n",
        "\n",
        "Pre-processing dilakukan untuk mempermudah pengolahan teks selanjutnya. Dilakukan dengan beberapa tahap seperti, menghapus tanda baca, angka, konversi huruf kecil, tokenisasi, menghapus stopwords. Sehingga, nantinya teks lebih efektif dan efisien untuk dianalisis."
      ],
      "metadata": {
        "id": "2PxZx4PsP_mP"
      }
    },
    {
      "cell_type": "code",
      "source": [
        "nltk.download('stopwords')\n",
        "def clean_text(input_text):\n",
        "    # Menghapus tanda baca\n",
        "    translator = str.maketrans(\"\", \"\", string.punctuation)\n",
        "    text_without_punct = input_text.translate(translator)\n",
        "\n",
        "    # Menghapus angka\n",
        "    text_without_numbers = re.sub(r'\\d', '', text_without_punct)\n",
        "\n",
        "    # Mengonversi huruf kecil\n",
        "    cleaned_text = text_without_numbers.lower()\n",
        "\n",
        "    # Tokenisasi teks\n",
        "    tokens = nltk.word_tokenize(cleaned_text)\n",
        "\n",
        "    # Menghapus stopwords\n",
        "    stop_words = set(stopwords.words('indonesian'))\n",
        "    filtered_tokens = [word for word in tokens if word.lower() not in stop_words]\n",
        "\n",
        "    # Menggabungkan kembali teks dari token yang telah difilter\n",
        "    cleaned_text = ' '.join(filtered_tokens)\n",
        "\n",
        "    return cleaned_text\n",
        "\n",
        "\n",
        "df['Kalimat'] = df['Kalimat'].apply(clean_text)\n",
        "print(df)\n"
      ],
      "metadata": {
        "colab": {
          "base_uri": "https://localhost:8080/"
        },
        "id": "VhsEDiPl7VJb",
        "outputId": "f520c59f-2489-4c17-bf56-84c19d9afbd3"
      },
      "execution_count": null,
      "outputs": [
        {
          "output_type": "stream",
          "name": "stderr",
          "text": [
            "[nltk_data] Downloading package stopwords to /root/nltk_data...\n",
            "[nltk_data]   Unzipping corpora/stopwords.zip.\n"
          ]
        },
        {
          "output_type": "stream",
          "name": "stdout",
          "text": [
            "                                                Kalimat\n",
            "0     malin kundang hiduplah keluarga nelayan pesisi...\n",
            "1        keluarga ayah anak lakilaki nama malin kundang\n",
            "2     kondisi keuangan keluarga memprihatinkan sang ...\n",
            "3                      tinggallah si malin ibunya gubug\n",
            "4     semingg u minggu sebulan ayah malin kampung ha...\n",
            "...                                                 ...\n",
            "3734  tubuh prabu dewata cengkar dilempar aji saka j...\n",
            "3735            aji saka dinobatkan raja medang kamulan\n",
            "3736                       i a memboyong ayahnya istana\n",
            "3737  berkat pemerintahan adil bijaksana aji saka me...\n",
            "3738                                                   \n",
            "\n",
            "[3739 rows x 1 columns]\n"
          ]
        }
      ]
    },
    {
      "cell_type": "markdown",
      "source": [
        "## **One Hot Encoding**\n",
        "\n",
        "Mengubah data kategorikal menjadi sebuah vektor biner dengan nilai 1 pada kategori yang sesuai dan 0 untuk kategori lainnya."
      ],
      "metadata": {
        "id": "EOu-KKp-LhPI"
      }
    },
    {
      "cell_type": "code",
      "source": [
        "ONE_HOT=pd.get_dummies(df['Kalimat'].str.split(expand=True).stack(), drop_first=True).groupby(level=0).max()\n",
        "ONE_HOT['Kalimat']=df['Kalimat']\n",
        "ONE_HOT"
      ],
      "metadata": {
        "colab": {
          "base_uri": "https://localhost:8080/",
          "height": 424
        },
        "id": "BCzy6oea-VR-",
        "outputId": "f2a1958b-4295-4453-d095-3bae60db6f7b"
      },
      "execution_count": null,
      "outputs": [
        {
          "output_type": "execute_result",
          "data": {
            "text/plain": [
              "      aaa  aaaa  aan  aat  abad  abadi  abangnya  abdi  abdinya  abu  ...  \\\n",
              "0       0     0    0    0     0      0         0     0        0    0  ...   \n",
              "1       0     0    0    0     0      0         0     0        0    0  ...   \n",
              "2       0     0    0    0     0      0         0     0        0    0  ...   \n",
              "3       0     0    0    0     0      0         0     0        0    0  ...   \n",
              "4       0     0    0    0     0      0         0     0        0    0  ...   \n",
              "...   ...   ...  ...  ...   ...    ...       ...   ...      ...  ...  ...   \n",
              "3733    0     0    0    0     0      0         0     0        0    0  ...   \n",
              "3734    0     0    0    0     0      0         0     0        0    0  ...   \n",
              "3735    0     0    0    0     0      0         0     0        0    0  ...   \n",
              "3736    0     0    0    0     0      0         0     0        0    0  ...   \n",
              "3737    0     0    0    0     0      0         0     0        0    0  ...   \n",
              "\n",
              "      yelamatkan  yet  yik  yikan  yir  yosaku  yuk  yut  zam  \\\n",
              "0              0    0    0      0    0       0    0    0    0   \n",
              "1              0    0    0      0    0       0    0    0    0   \n",
              "2              0    0    0      0    0       0    0    0    0   \n",
              "3              0    0    0      0    0       0    0    0    0   \n",
              "4              0    0    0      0    0       0    0    0    0   \n",
              "...          ...  ...  ...    ...  ...     ...  ...  ...  ...   \n",
              "3733           0    0    0      0    0       0    0    0    0   \n",
              "3734           0    0    0      0    0       0    0    0    0   \n",
              "3735           0    0    0      0    0       0    0    0    0   \n",
              "3736           0    0    0      0    0       0    0    0    0   \n",
              "3737           0    0    0      0    0       0    0    0    0   \n",
              "\n",
              "                                                Kalimat  \n",
              "0     malin kundang hiduplah keluarga nelayan pesisi...  \n",
              "1        keluarga ayah anak lakilaki nama malin kundang  \n",
              "2     kondisi keuangan keluarga memprihatinkan sang ...  \n",
              "3                      tinggallah si malin ibunya gubug  \n",
              "4     semingg u minggu sebulan ayah malin kampung ha...  \n",
              "...                                                 ...  \n",
              "3733  prabu dewata cengkar marah serban aji s aka me...  \n",
              "3734  tubuh prabu dewata cengkar dilempar aji saka j...  \n",
              "3735            aji saka dinobatkan raja medang kamulan  \n",
              "3736                       i a memboyong ayahnya istana  \n",
              "3737  berkat pemerintahan adil bijaksana aji saka me...  \n",
              "\n",
              "[3535 rows x 4884 columns]"
            ],
            "text/html": [
              "\n",
              "  <div id=\"df-aaf19cf5-6405-4ea7-ab01-5f9971ebaca8\" class=\"colab-df-container\">\n",
              "    <div>\n",
              "<style scoped>\n",
              "    .dataframe tbody tr th:only-of-type {\n",
              "        vertical-align: middle;\n",
              "    }\n",
              "\n",
              "    .dataframe tbody tr th {\n",
              "        vertical-align: top;\n",
              "    }\n",
              "\n",
              "    .dataframe thead th {\n",
              "        text-align: right;\n",
              "    }\n",
              "</style>\n",
              "<table border=\"1\" class=\"dataframe\">\n",
              "  <thead>\n",
              "    <tr style=\"text-align: right;\">\n",
              "      <th></th>\n",
              "      <th>aaa</th>\n",
              "      <th>aaaa</th>\n",
              "      <th>aan</th>\n",
              "      <th>aat</th>\n",
              "      <th>abad</th>\n",
              "      <th>abadi</th>\n",
              "      <th>abangnya</th>\n",
              "      <th>abdi</th>\n",
              "      <th>abdinya</th>\n",
              "      <th>abu</th>\n",
              "      <th>...</th>\n",
              "      <th>yelamatkan</th>\n",
              "      <th>yet</th>\n",
              "      <th>yik</th>\n",
              "      <th>yikan</th>\n",
              "      <th>yir</th>\n",
              "      <th>yosaku</th>\n",
              "      <th>yuk</th>\n",
              "      <th>yut</th>\n",
              "      <th>zam</th>\n",
              "      <th>Kalimat</th>\n",
              "    </tr>\n",
              "  </thead>\n",
              "  <tbody>\n",
              "    <tr>\n",
              "      <th>0</th>\n",
              "      <td>0</td>\n",
              "      <td>0</td>\n",
              "      <td>0</td>\n",
              "      <td>0</td>\n",
              "      <td>0</td>\n",
              "      <td>0</td>\n",
              "      <td>0</td>\n",
              "      <td>0</td>\n",
              "      <td>0</td>\n",
              "      <td>0</td>\n",
              "      <td>...</td>\n",
              "      <td>0</td>\n",
              "      <td>0</td>\n",
              "      <td>0</td>\n",
              "      <td>0</td>\n",
              "      <td>0</td>\n",
              "      <td>0</td>\n",
              "      <td>0</td>\n",
              "      <td>0</td>\n",
              "      <td>0</td>\n",
              "      <td>malin kundang hiduplah keluarga nelayan pesisi...</td>\n",
              "    </tr>\n",
              "    <tr>\n",
              "      <th>1</th>\n",
              "      <td>0</td>\n",
              "      <td>0</td>\n",
              "      <td>0</td>\n",
              "      <td>0</td>\n",
              "      <td>0</td>\n",
              "      <td>0</td>\n",
              "      <td>0</td>\n",
              "      <td>0</td>\n",
              "      <td>0</td>\n",
              "      <td>0</td>\n",
              "      <td>...</td>\n",
              "      <td>0</td>\n",
              "      <td>0</td>\n",
              "      <td>0</td>\n",
              "      <td>0</td>\n",
              "      <td>0</td>\n",
              "      <td>0</td>\n",
              "      <td>0</td>\n",
              "      <td>0</td>\n",
              "      <td>0</td>\n",
              "      <td>keluarga ayah anak lakilaki nama malin kundang</td>\n",
              "    </tr>\n",
              "    <tr>\n",
              "      <th>2</th>\n",
              "      <td>0</td>\n",
              "      <td>0</td>\n",
              "      <td>0</td>\n",
              "      <td>0</td>\n",
              "      <td>0</td>\n",
              "      <td>0</td>\n",
              "      <td>0</td>\n",
              "      <td>0</td>\n",
              "      <td>0</td>\n",
              "      <td>0</td>\n",
              "      <td>...</td>\n",
              "      <td>0</td>\n",
              "      <td>0</td>\n",
              "      <td>0</td>\n",
              "      <td>0</td>\n",
              "      <td>0</td>\n",
              "      <td>0</td>\n",
              "      <td>0</td>\n",
              "      <td>0</td>\n",
              "      <td>0</td>\n",
              "      <td>kondisi keuangan keluarga memprihatinkan sang ...</td>\n",
              "    </tr>\n",
              "    <tr>\n",
              "      <th>3</th>\n",
              "      <td>0</td>\n",
              "      <td>0</td>\n",
              "      <td>0</td>\n",
              "      <td>0</td>\n",
              "      <td>0</td>\n",
              "      <td>0</td>\n",
              "      <td>0</td>\n",
              "      <td>0</td>\n",
              "      <td>0</td>\n",
              "      <td>0</td>\n",
              "      <td>...</td>\n",
              "      <td>0</td>\n",
              "      <td>0</td>\n",
              "      <td>0</td>\n",
              "      <td>0</td>\n",
              "      <td>0</td>\n",
              "      <td>0</td>\n",
              "      <td>0</td>\n",
              "      <td>0</td>\n",
              "      <td>0</td>\n",
              "      <td>tinggallah si malin ibunya gubug</td>\n",
              "    </tr>\n",
              "    <tr>\n",
              "      <th>4</th>\n",
              "      <td>0</td>\n",
              "      <td>0</td>\n",
              "      <td>0</td>\n",
              "      <td>0</td>\n",
              "      <td>0</td>\n",
              "      <td>0</td>\n",
              "      <td>0</td>\n",
              "      <td>0</td>\n",
              "      <td>0</td>\n",
              "      <td>0</td>\n",
              "      <td>...</td>\n",
              "      <td>0</td>\n",
              "      <td>0</td>\n",
              "      <td>0</td>\n",
              "      <td>0</td>\n",
              "      <td>0</td>\n",
              "      <td>0</td>\n",
              "      <td>0</td>\n",
              "      <td>0</td>\n",
              "      <td>0</td>\n",
              "      <td>semingg u minggu sebulan ayah malin kampung ha...</td>\n",
              "    </tr>\n",
              "    <tr>\n",
              "      <th>...</th>\n",
              "      <td>...</td>\n",
              "      <td>...</td>\n",
              "      <td>...</td>\n",
              "      <td>...</td>\n",
              "      <td>...</td>\n",
              "      <td>...</td>\n",
              "      <td>...</td>\n",
              "      <td>...</td>\n",
              "      <td>...</td>\n",
              "      <td>...</td>\n",
              "      <td>...</td>\n",
              "      <td>...</td>\n",
              "      <td>...</td>\n",
              "      <td>...</td>\n",
              "      <td>...</td>\n",
              "      <td>...</td>\n",
              "      <td>...</td>\n",
              "      <td>...</td>\n",
              "      <td>...</td>\n",
              "      <td>...</td>\n",
              "      <td>...</td>\n",
              "    </tr>\n",
              "    <tr>\n",
              "      <th>3733</th>\n",
              "      <td>0</td>\n",
              "      <td>0</td>\n",
              "      <td>0</td>\n",
              "      <td>0</td>\n",
              "      <td>0</td>\n",
              "      <td>0</td>\n",
              "      <td>0</td>\n",
              "      <td>0</td>\n",
              "      <td>0</td>\n",
              "      <td>0</td>\n",
              "      <td>...</td>\n",
              "      <td>0</td>\n",
              "      <td>0</td>\n",
              "      <td>0</td>\n",
              "      <td>0</td>\n",
              "      <td>0</td>\n",
              "      <td>0</td>\n",
              "      <td>0</td>\n",
              "      <td>0</td>\n",
              "      <td>0</td>\n",
              "      <td>prabu dewata cengkar marah serban aji s aka me...</td>\n",
              "    </tr>\n",
              "    <tr>\n",
              "      <th>3734</th>\n",
              "      <td>0</td>\n",
              "      <td>0</td>\n",
              "      <td>0</td>\n",
              "      <td>0</td>\n",
              "      <td>0</td>\n",
              "      <td>0</td>\n",
              "      <td>0</td>\n",
              "      <td>0</td>\n",
              "      <td>0</td>\n",
              "      <td>0</td>\n",
              "      <td>...</td>\n",
              "      <td>0</td>\n",
              "      <td>0</td>\n",
              "      <td>0</td>\n",
              "      <td>0</td>\n",
              "      <td>0</td>\n",
              "      <td>0</td>\n",
              "      <td>0</td>\n",
              "      <td>0</td>\n",
              "      <td>0</td>\n",
              "      <td>tubuh prabu dewata cengkar dilempar aji saka j...</td>\n",
              "    </tr>\n",
              "    <tr>\n",
              "      <th>3735</th>\n",
              "      <td>0</td>\n",
              "      <td>0</td>\n",
              "      <td>0</td>\n",
              "      <td>0</td>\n",
              "      <td>0</td>\n",
              "      <td>0</td>\n",
              "      <td>0</td>\n",
              "      <td>0</td>\n",
              "      <td>0</td>\n",
              "      <td>0</td>\n",
              "      <td>...</td>\n",
              "      <td>0</td>\n",
              "      <td>0</td>\n",
              "      <td>0</td>\n",
              "      <td>0</td>\n",
              "      <td>0</td>\n",
              "      <td>0</td>\n",
              "      <td>0</td>\n",
              "      <td>0</td>\n",
              "      <td>0</td>\n",
              "      <td>aji saka dinobatkan raja medang kamulan</td>\n",
              "    </tr>\n",
              "    <tr>\n",
              "      <th>3736</th>\n",
              "      <td>0</td>\n",
              "      <td>0</td>\n",
              "      <td>0</td>\n",
              "      <td>0</td>\n",
              "      <td>0</td>\n",
              "      <td>0</td>\n",
              "      <td>0</td>\n",
              "      <td>0</td>\n",
              "      <td>0</td>\n",
              "      <td>0</td>\n",
              "      <td>...</td>\n",
              "      <td>0</td>\n",
              "      <td>0</td>\n",
              "      <td>0</td>\n",
              "      <td>0</td>\n",
              "      <td>0</td>\n",
              "      <td>0</td>\n",
              "      <td>0</td>\n",
              "      <td>0</td>\n",
              "      <td>0</td>\n",
              "      <td>i a memboyong ayahnya istana</td>\n",
              "    </tr>\n",
              "    <tr>\n",
              "      <th>3737</th>\n",
              "      <td>0</td>\n",
              "      <td>0</td>\n",
              "      <td>0</td>\n",
              "      <td>0</td>\n",
              "      <td>0</td>\n",
              "      <td>0</td>\n",
              "      <td>0</td>\n",
              "      <td>0</td>\n",
              "      <td>0</td>\n",
              "      <td>0</td>\n",
              "      <td>...</td>\n",
              "      <td>0</td>\n",
              "      <td>0</td>\n",
              "      <td>0</td>\n",
              "      <td>0</td>\n",
              "      <td>0</td>\n",
              "      <td>0</td>\n",
              "      <td>0</td>\n",
              "      <td>0</td>\n",
              "      <td>0</td>\n",
              "      <td>berkat pemerintahan adil bijaksana aji saka me...</td>\n",
              "    </tr>\n",
              "  </tbody>\n",
              "</table>\n",
              "<p>3535 rows × 4884 columns</p>\n",
              "</div>\n",
              "    <div class=\"colab-df-buttons\">\n",
              "\n",
              "  <div class=\"colab-df-container\">\n",
              "    <button class=\"colab-df-convert\" onclick=\"convertToInteractive('df-aaf19cf5-6405-4ea7-ab01-5f9971ebaca8')\"\n",
              "            title=\"Convert this dataframe to an interactive table.\"\n",
              "            style=\"display:none;\">\n",
              "\n",
              "  <svg xmlns=\"http://www.w3.org/2000/svg\" height=\"24px\" viewBox=\"0 -960 960 960\">\n",
              "    <path d=\"M120-120v-720h720v720H120Zm60-500h600v-160H180v160Zm220 220h160v-160H400v160Zm0 220h160v-160H400v160ZM180-400h160v-160H180v160Zm440 0h160v-160H620v160ZM180-180h160v-160H180v160Zm440 0h160v-160H620v160Z\"/>\n",
              "  </svg>\n",
              "    </button>\n",
              "\n",
              "  <style>\n",
              "    .colab-df-container {\n",
              "      display:flex;\n",
              "      gap: 12px;\n",
              "    }\n",
              "\n",
              "    .colab-df-convert {\n",
              "      background-color: #E8F0FE;\n",
              "      border: none;\n",
              "      border-radius: 50%;\n",
              "      cursor: pointer;\n",
              "      display: none;\n",
              "      fill: #1967D2;\n",
              "      height: 32px;\n",
              "      padding: 0 0 0 0;\n",
              "      width: 32px;\n",
              "    }\n",
              "\n",
              "    .colab-df-convert:hover {\n",
              "      background-color: #E2EBFA;\n",
              "      box-shadow: 0px 1px 2px rgba(60, 64, 67, 0.3), 0px 1px 3px 1px rgba(60, 64, 67, 0.15);\n",
              "      fill: #174EA6;\n",
              "    }\n",
              "\n",
              "    .colab-df-buttons div {\n",
              "      margin-bottom: 4px;\n",
              "    }\n",
              "\n",
              "    [theme=dark] .colab-df-convert {\n",
              "      background-color: #3B4455;\n",
              "      fill: #D2E3FC;\n",
              "    }\n",
              "\n",
              "    [theme=dark] .colab-df-convert:hover {\n",
              "      background-color: #434B5C;\n",
              "      box-shadow: 0px 1px 3px 1px rgba(0, 0, 0, 0.15);\n",
              "      filter: drop-shadow(0px 1px 2px rgba(0, 0, 0, 0.3));\n",
              "      fill: #FFFFFF;\n",
              "    }\n",
              "  </style>\n",
              "\n",
              "    <script>\n",
              "      const buttonEl =\n",
              "        document.querySelector('#df-aaf19cf5-6405-4ea7-ab01-5f9971ebaca8 button.colab-df-convert');\n",
              "      buttonEl.style.display =\n",
              "        google.colab.kernel.accessAllowed ? 'block' : 'none';\n",
              "\n",
              "      async function convertToInteractive(key) {\n",
              "        const element = document.querySelector('#df-aaf19cf5-6405-4ea7-ab01-5f9971ebaca8');\n",
              "        const dataTable =\n",
              "          await google.colab.kernel.invokeFunction('convertToInteractive',\n",
              "                                                    [key], {});\n",
              "        if (!dataTable) return;\n",
              "\n",
              "        const docLinkHtml = 'Like what you see? Visit the ' +\n",
              "          '<a target=\"_blank\" href=https://colab.research.google.com/notebooks/data_table.ipynb>data table notebook</a>'\n",
              "          + ' to learn more about interactive tables.';\n",
              "        element.innerHTML = '';\n",
              "        dataTable['output_type'] = 'display_data';\n",
              "        await google.colab.output.renderOutput(dataTable, element);\n",
              "        const docLink = document.createElement('div');\n",
              "        docLink.innerHTML = docLinkHtml;\n",
              "        element.appendChild(docLink);\n",
              "      }\n",
              "    </script>\n",
              "  </div>\n",
              "\n",
              "\n",
              "<div id=\"df-d055de2f-8c81-4e24-975a-53f01c0f5c1a\">\n",
              "  <button class=\"colab-df-quickchart\" onclick=\"quickchart('df-d055de2f-8c81-4e24-975a-53f01c0f5c1a')\"\n",
              "            title=\"Suggest charts\"\n",
              "            style=\"display:none;\">\n",
              "\n",
              "<svg xmlns=\"http://www.w3.org/2000/svg\" height=\"24px\"viewBox=\"0 0 24 24\"\n",
              "     width=\"24px\">\n",
              "    <g>\n",
              "        <path d=\"M19 3H5c-1.1 0-2 .9-2 2v14c0 1.1.9 2 2 2h14c1.1 0 2-.9 2-2V5c0-1.1-.9-2-2-2zM9 17H7v-7h2v7zm4 0h-2V7h2v10zm4 0h-2v-4h2v4z\"/>\n",
              "    </g>\n",
              "</svg>\n",
              "  </button>\n",
              "\n",
              "<style>\n",
              "  .colab-df-quickchart {\n",
              "      --bg-color: #E8F0FE;\n",
              "      --fill-color: #1967D2;\n",
              "      --hover-bg-color: #E2EBFA;\n",
              "      --hover-fill-color: #174EA6;\n",
              "      --disabled-fill-color: #AAA;\n",
              "      --disabled-bg-color: #DDD;\n",
              "  }\n",
              "\n",
              "  [theme=dark] .colab-df-quickchart {\n",
              "      --bg-color: #3B4455;\n",
              "      --fill-color: #D2E3FC;\n",
              "      --hover-bg-color: #434B5C;\n",
              "      --hover-fill-color: #FFFFFF;\n",
              "      --disabled-bg-color: #3B4455;\n",
              "      --disabled-fill-color: #666;\n",
              "  }\n",
              "\n",
              "  .colab-df-quickchart {\n",
              "    background-color: var(--bg-color);\n",
              "    border: none;\n",
              "    border-radius: 50%;\n",
              "    cursor: pointer;\n",
              "    display: none;\n",
              "    fill: var(--fill-color);\n",
              "    height: 32px;\n",
              "    padding: 0;\n",
              "    width: 32px;\n",
              "  }\n",
              "\n",
              "  .colab-df-quickchart:hover {\n",
              "    background-color: var(--hover-bg-color);\n",
              "    box-shadow: 0 1px 2px rgba(60, 64, 67, 0.3), 0 1px 3px 1px rgba(60, 64, 67, 0.15);\n",
              "    fill: var(--button-hover-fill-color);\n",
              "  }\n",
              "\n",
              "  .colab-df-quickchart-complete:disabled,\n",
              "  .colab-df-quickchart-complete:disabled:hover {\n",
              "    background-color: var(--disabled-bg-color);\n",
              "    fill: var(--disabled-fill-color);\n",
              "    box-shadow: none;\n",
              "  }\n",
              "\n",
              "  .colab-df-spinner {\n",
              "    border: 2px solid var(--fill-color);\n",
              "    border-color: transparent;\n",
              "    border-bottom-color: var(--fill-color);\n",
              "    animation:\n",
              "      spin 1s steps(1) infinite;\n",
              "  }\n",
              "\n",
              "  @keyframes spin {\n",
              "    0% {\n",
              "      border-color: transparent;\n",
              "      border-bottom-color: var(--fill-color);\n",
              "      border-left-color: var(--fill-color);\n",
              "    }\n",
              "    20% {\n",
              "      border-color: transparent;\n",
              "      border-left-color: var(--fill-color);\n",
              "      border-top-color: var(--fill-color);\n",
              "    }\n",
              "    30% {\n",
              "      border-color: transparent;\n",
              "      border-left-color: var(--fill-color);\n",
              "      border-top-color: var(--fill-color);\n",
              "      border-right-color: var(--fill-color);\n",
              "    }\n",
              "    40% {\n",
              "      border-color: transparent;\n",
              "      border-right-color: var(--fill-color);\n",
              "      border-top-color: var(--fill-color);\n",
              "    }\n",
              "    60% {\n",
              "      border-color: transparent;\n",
              "      border-right-color: var(--fill-color);\n",
              "    }\n",
              "    80% {\n",
              "      border-color: transparent;\n",
              "      border-right-color: var(--fill-color);\n",
              "      border-bottom-color: var(--fill-color);\n",
              "    }\n",
              "    90% {\n",
              "      border-color: transparent;\n",
              "      border-bottom-color: var(--fill-color);\n",
              "    }\n",
              "  }\n",
              "</style>\n",
              "\n",
              "  <script>\n",
              "    async function quickchart(key) {\n",
              "      const quickchartButtonEl =\n",
              "        document.querySelector('#' + key + ' button');\n",
              "      quickchartButtonEl.disabled = true;  // To prevent multiple clicks.\n",
              "      quickchartButtonEl.classList.add('colab-df-spinner');\n",
              "      try {\n",
              "        const charts = await google.colab.kernel.invokeFunction(\n",
              "            'suggestCharts', [key], {});\n",
              "      } catch (error) {\n",
              "        console.error('Error during call to suggestCharts:', error);\n",
              "      }\n",
              "      quickchartButtonEl.classList.remove('colab-df-spinner');\n",
              "      quickchartButtonEl.classList.add('colab-df-quickchart-complete');\n",
              "    }\n",
              "    (() => {\n",
              "      let quickchartButtonEl =\n",
              "        document.querySelector('#df-d055de2f-8c81-4e24-975a-53f01c0f5c1a button');\n",
              "      quickchartButtonEl.style.display =\n",
              "        google.colab.kernel.accessAllowed ? 'block' : 'none';\n",
              "    })();\n",
              "  </script>\n",
              "</div>\n",
              "    </div>\n",
              "  </div>\n"
            ]
          },
          "metadata": {},
          "execution_count": 11
        }
      ]
    },
    {
      "cell_type": "markdown",
      "source": [
        "## **Hash Vectoring**\n",
        "\n",
        "Mengubah data atau teks non-numerik menjadi representasi numerik (biasanya dalam bentuk bilangan bulat atau vektor biner) dengan cara yang terdistribusi secara acak. <br>\n",
        "Fungsi hash memetakan data masukan (misalnya, kata atau objek) ke nilai hash yang sesuai, yang kemudian dapat digunakan sebagai representasi numerik dari data tersebut."
      ],
      "metadata": {
        "id": "PalSURAiN7nk"
      }
    },
    {
      "cell_type": "code",
      "source": [
        "import hashlib\n",
        "def hash_vectoring(text):\n",
        "    # Inisialisasi vektor dengan nilai 0\n",
        "    vector = [0] * vector_size\n",
        "\n",
        "    # Konversi teks menjadi hash\n",
        "    hashed_text = hashlib.sha256(text.encode()).hexdigest()\n",
        "\n",
        "    # Ambil sebagian dari hash (sesuai dengan panjang vektor)\n",
        "    hash_subset = hashed_text[:vector_size]\n",
        "\n",
        "    # Konversi hash menjadi bilangan bulat (integer)\n",
        "    hash_integer = int(hash_subset, 16)\n",
        "\n",
        "    # Modulus hash dengan ukuran vektor untuk mendapatkan indeks\n",
        "    index = hash_integer % vector_size\n",
        "\n",
        "    # Set nilai indeks vektor menjadi 1\n",
        "    vector[index] = 1\n",
        "\n",
        "    return vector\n",
        "\n",
        "vector_size = 15\n",
        "df_HASH = df[\"Kalimat\"].apply(hash_vectoring)\n",
        "print(df_HASH)"
      ],
      "metadata": {
        "colab": {
          "base_uri": "https://localhost:8080/"
        },
        "id": "o2-MfaTRBE1p",
        "outputId": "ebff1caf-e2e9-491b-d3a7-dad4952b05a2"
      },
      "execution_count": null,
      "outputs": [
        {
          "output_type": "stream",
          "name": "stdout",
          "text": [
            "0       [0, 0, 0, 0, 0, 0, 0, 0, 0, 0, 0, 0, 0, 1, 0]\n",
            "1       [1, 0, 0, 0, 0, 0, 0, 0, 0, 0, 0, 0, 0, 0, 0]\n",
            "2       [1, 0, 0, 0, 0, 0, 0, 0, 0, 0, 0, 0, 0, 0, 0]\n",
            "3       [0, 0, 0, 0, 0, 1, 0, 0, 0, 0, 0, 0, 0, 0, 0]\n",
            "4       [0, 0, 0, 0, 0, 0, 0, 0, 0, 0, 1, 0, 0, 0, 0]\n",
            "                            ...                      \n",
            "3734    [0, 1, 0, 0, 0, 0, 0, 0, 0, 0, 0, 0, 0, 0, 0]\n",
            "3735    [0, 1, 0, 0, 0, 0, 0, 0, 0, 0, 0, 0, 0, 0, 0]\n",
            "3736    [0, 1, 0, 0, 0, 0, 0, 0, 0, 0, 0, 0, 0, 0, 0]\n",
            "3737    [0, 0, 1, 0, 0, 0, 0, 0, 0, 0, 0, 0, 0, 0, 0]\n",
            "3738    [0, 0, 0, 1, 0, 0, 0, 0, 0, 0, 0, 0, 0, 0, 0]\n",
            "Name: Kalimat, Length: 3739, dtype: object\n"
          ]
        }
      ]
    },
    {
      "cell_type": "markdown",
      "source": [
        "## **Co-Occurence Matriks**"
      ],
      "metadata": {
        "id": "3mBykMtTRCxx"
      }
    },
    {
      "cell_type": "code",
      "source": [
        "# Membuat dataset menjadi list dalam lists (per kalimat dijadikan list)\n",
        "df_lists = df['Kalimat'].apply(lambda x: x.split()).tolist()\n",
        "df_lists[1:5]"
      ],
      "metadata": {
        "colab": {
          "base_uri": "https://localhost:8080/"
        },
        "id": "1JT32Oi7B92-",
        "outputId": "d253fc23-db65-4771-8173-ffd10d816eff"
      },
      "execution_count": null,
      "outputs": [
        {
          "output_type": "execute_result",
          "data": {
            "text/plain": [
              "[['keluarga', 'ayah', 'anak', 'lakilaki', 'nama', 'malin', 'kundang'],\n",
              " ['kondisi',\n",
              "  'keuangan',\n",
              "  'keluarga',\n",
              "  'memprihatinkan',\n",
              "  'sang',\n",
              "  'ayah',\n",
              "  'memutuskan',\n",
              "  'mencari',\n",
              "  'nafkah',\n",
              "  'negeri',\n",
              "  'seberang',\n",
              "  'mengarungi',\n",
              "  'lautan',\n",
              "  'luas'],\n",
              " ['tinggallah', 'si', 'malin', 'ibunya', 'gubug'],\n",
              " ['semingg',\n",
              "  'u',\n",
              "  'minggu',\n",
              "  'sebulan',\n",
              "  'ayah',\n",
              "  'malin',\n",
              "  'kampung',\n",
              "  'halamannya']]"
            ]
          },
          "metadata": {},
          "execution_count": 116
        }
      ]
    },
    {
      "cell_type": "code",
      "source": [
        "import numpy as np\n",
        "import nltk\n",
        "from nltk import bigrams\n",
        "import itertools\n",
        "import pandas as pd\n",
        "\n",
        "def co_occurrence_matrix(corpus):\n",
        "    vocab = set(corpus)\n",
        "    vocab = list(vocab)\n",
        "    vocab_to_index = {word: i for i, word in enumerate(vocab)}\n",
        "\n",
        "    # Create bigrams from all words in corpus\n",
        "    bi_grams = list(bigrams(corpus))\n",
        "\n",
        "    # Frequency distribution of bigrams ((word1, word2), num_occurrences)\n",
        "    bigram_freq = nltk.FreqDist(bi_grams).most_common(len(bi_grams))\n",
        "\n",
        "    # Initialise co-occurrence matrix\n",
        "    co_occurrence_matrix = np.zeros((len(vocab), len(vocab)))\n",
        "\n",
        "    # Loop through the bigrams taking the current and previous word,\n",
        "    # and the number of occurrences of the bigram.\n",
        "    for bigram in bigram_freq:\n",
        "        current = bigram[0][1]\n",
        "        previous = bigram[0][0]\n",
        "        count = bigram[1]\n",
        "        pos_current = vocab_to_index[current]\n",
        "        pos_previous = vocab_to_index[previous]\n",
        "        co_occurrence_matrix[pos_current][pos_previous] = count\n",
        "\n",
        "    co_occurrence_matrix = np.matrix(co_occurrence_matrix)\n",
        "\n",
        "    # Return the matrix and the index\n",
        "    return co_occurrence_matrix, vocab_to_index\n",
        "\n",
        "merged = list(itertools.chain.from_iterable(df_lists))\n",
        "matrix, vocab_to_index = co_occurrence_matrix(merged)\n",
        "\n",
        "CoMatrixFinal = pd.DataFrame(matrix, index=vocab_to_index, columns=vocab_to_index)\n",
        "print(CoMatrixFinal)"
      ],
      "metadata": {
        "colab": {
          "base_uri": "https://localhost:8080/"
        },
        "id": "vHNPsXBACL0I",
        "outputId": "8731d3c7-4a7f-49b0-b5e6-9d6685d1588b"
      },
      "execution_count": null,
      "outputs": [
        {
          "output_type": "stream",
          "name": "stdout",
          "text": [
            "             mengadakan  tingkat  anakanak  pemuda  kesal  langgang  perompak  \\\n",
            "mengadakan          0.0      0.0       0.0     0.0    0.0       0.0       0.0   \n",
            "tingkat             0.0      0.0       0.0     0.0    0.0       0.0       0.0   \n",
            "anakanak            0.0      0.0       0.0     0.0    0.0       0.0       0.0   \n",
            "pemuda              0.0      0.0       0.0     0.0    0.0       0.0       0.0   \n",
            "kesal               0.0      0.0       0.0     0.0    0.0       0.0       0.0   \n",
            "...                 ...      ...       ...     ...    ...       ...       ...   \n",
            "lambat              0.0      0.0       0.0     0.0    0.0       0.0       0.0   \n",
            "ungsu               0.0      0.0       0.0     0.0    0.0       0.0       0.0   \n",
            "tom                 0.0      0.0       0.0     0.0    0.0       0.0       0.0   \n",
            "berkelakuan         0.0      0.0       0.0     0.0    0.0       0.0       0.0   \n",
            "rampokannya         0.0      0.0       0.0     0.0    0.0       0.0       0.0   \n",
            "\n",
            "             prab  bag  punggungnya  ...  sejuk  kerja   ua  berdiri  gigih  \\\n",
            "mengadakan    0.0  0.0          0.0  ...    0.0    0.0  0.0      0.0    0.0   \n",
            "tingkat       0.0  0.0          0.0  ...    0.0    0.0  0.0      0.0    0.0   \n",
            "anakanak      0.0  0.0          0.0  ...    0.0    0.0  0.0      0.0    0.0   \n",
            "pemuda        0.0  0.0          0.0  ...    0.0    0.0  0.0      0.0    0.0   \n",
            "kesal         0.0  0.0          0.0  ...    0.0    0.0  0.0      0.0    0.0   \n",
            "...           ...  ...          ...  ...    ...    ...  ...      ...    ...   \n",
            "lambat        0.0  0.0          0.0  ...    0.0    0.0  0.0      0.0    0.0   \n",
            "ungsu         0.0  0.0          0.0  ...    0.0    0.0  0.0      0.0    0.0   \n",
            "tom           0.0  0.0          0.0  ...    0.0    0.0  0.0      0.0    0.0   \n",
            "berkelakuan   0.0  0.0          0.0  ...    0.0    0.0  0.0      0.0    0.0   \n",
            "rampokannya   0.0  0.0          0.0  ...    0.0    0.0  0.0      0.0    0.0   \n",
            "\n",
            "             lambat  ungsu  tom  berkelakuan  rampokannya  \n",
            "mengadakan      0.0    0.0  0.0          0.0          0.0  \n",
            "tingkat         0.0    0.0  0.0          0.0          0.0  \n",
            "anakanak        0.0    0.0  0.0          0.0          0.0  \n",
            "pemuda          0.0    0.0  0.0          0.0          0.0  \n",
            "kesal           0.0    0.0  0.0          0.0          0.0  \n",
            "...             ...    ...  ...          ...          ...  \n",
            "lambat          0.0    0.0  0.0          0.0          0.0  \n",
            "ungsu           0.0    0.0  0.0          0.0          0.0  \n",
            "tom             0.0    0.0  1.0          0.0          0.0  \n",
            "berkelakuan     0.0    0.0  0.0          0.0          0.0  \n",
            "rampokannya     0.0    0.0  0.0          0.0          0.0  \n",
            "\n",
            "[4884 rows x 4884 columns]\n"
          ]
        }
      ]
    },
    {
      "cell_type": "markdown",
      "source": [
        "Baris dan kolom dalam matriks ini mewakili kata-kata dalam korpus yang digunakan.<br>\n",
        "Setiap sel dalam matriks berisi angka yang menunjukkan seberapa sering dua kata muncul bersama-sama dalam konteks yang telah ditentukan.<br>\n",
        "Nilai diagonal utama (misalnya, \"lambat\" di baris dan kolom sekian) umumnya diatur ke nol, karena ini menunjukkan seberapa sering sebuah kata muncul bersama dengan dirinya sendiri dalam konteks yang sama, yang biasanya tidak relevan.<br>\n",
        "Nilai sel yang lebih besar menunjukkan bahwa kata-kata tersebut cenderung muncul bersama lebih sering dalam konteks yang sama. Contohnya, di baris \"lapar\" dan kolom \"haus\", nilai adalah 5 (jika dilihat dari file excelnya), menunjukkan bahwa kata \"lapar\" dan \"haus\" muncul bersama dalam lima konteks.<br>"
      ],
      "metadata": {
        "id": "PhBNa_CSSKtK"
      }
    },
    {
      "cell_type": "markdown",
      "source": [
        "## **WORD2VEC**"
      ],
      "metadata": {
        "id": "Ga1UskmRKwpq"
      }
    },
    {
      "cell_type": "code",
      "source": [
        "# Membangun model Word2Vec\n",
        "corpus=df['Kalimat']\n",
        "tokenized_corpus = [sentence.split() for sentence in corpus]\n",
        "model_w2v = Word2Vec(tokenized_corpus, vector_size=150, window=25, min_count=1, sg=1)"
      ],
      "metadata": {
        "id": "J5yDIQroKvr3"
      },
      "execution_count": null,
      "outputs": []
    },
    {
      "cell_type": "code",
      "source": [
        "words=list(model_w2v.wv.index_to_key)\n",
        "vector_W2V = [model_w2v.wv[word] for word in words]\n",
        "vector_W2V = np.array(vector_W2V)"
      ],
      "metadata": {
        "id": "Wtqqzj90LcSu"
      },
      "execution_count": null,
      "outputs": []
    },
    {
      "cell_type": "code",
      "source": [
        "words[1:10]"
      ],
      "metadata": {
        "id": "ZCIl4sq7LetZ",
        "colab": {
          "base_uri": "https://localhost:8080/"
        },
        "outputId": "c8b70c83-d351-4db6-ae62-9ae15648bd6a"
      },
      "execution_count": null,
      "outputs": [
        {
          "output_type": "execute_result",
          "data": {
            "text/plain": [
              "['raja', 'si', 'sang', 'kancil', 'anak', 'puteri', 'istana', 'a', 'orang']"
            ]
          },
          "metadata": {},
          "execution_count": 115
        }
      ]
    },
    {
      "cell_type": "code",
      "source": [
        "vec_word2vec=pd.DataFrame(vector_W2V)\n",
        "print(vec_word2vec)"
      ],
      "metadata": {
        "id": "VBYOavHHLfgs",
        "colab": {
          "base_uri": "https://localhost:8080/"
        },
        "outputId": "ae61bb45-21b7-4c0e-c37f-27c8c6a56ac0"
      },
      "execution_count": null,
      "outputs": [
        {
          "output_type": "stream",
          "name": "stdout",
          "text": [
            "           0         1         2         3         4         5         6    \\\n",
            "0    -0.114086 -0.079794 -0.030212 -0.066008  0.164640 -0.218131 -0.046164   \n",
            "1    -0.099754 -0.075718 -0.038167 -0.065102  0.143348 -0.191161 -0.047286   \n",
            "2    -0.094924 -0.042961 -0.038607 -0.089244  0.163655 -0.226439 -0.056719   \n",
            "3    -0.094524 -0.059426 -0.033376 -0.088737  0.153762 -0.220889 -0.070693   \n",
            "4    -0.069247 -0.056096 -0.046556 -0.083823  0.152241 -0.203306 -0.060706   \n",
            "...        ...       ...       ...       ...       ...       ...       ...   \n",
            "4879 -0.014075 -0.008424 -0.014014 -0.018467  0.033933 -0.029483 -0.006715   \n",
            "4880 -0.005460 -0.006171 -0.008373 -0.008417  0.010040 -0.021307 -0.009938   \n",
            "4881 -0.009584 -0.004450 -0.004733 -0.007926  0.010122 -0.024938 -0.007555   \n",
            "4882 -0.005578 -0.007537 -0.004540 -0.012707  0.009462 -0.015897 -0.010643   \n",
            "4883 -0.018353 -0.012831 -0.013830 -0.012267  0.024212 -0.033598 -0.014815   \n",
            "\n",
            "           7         8         9    ...       140       141       142  \\\n",
            "0     0.214324 -0.009060 -0.018524  ... -0.015923 -0.072631  0.106559   \n",
            "1     0.212442 -0.028277 -0.004110  ... -0.026873 -0.055112  0.140067   \n",
            "2     0.205409 -0.018235 -0.010207  ... -0.034894 -0.077152  0.090281   \n",
            "3     0.179295 -0.031419 -0.017594  ... -0.010365 -0.063172  0.102875   \n",
            "4     0.190748 -0.025773 -0.008465  ... -0.028610 -0.076094  0.098876   \n",
            "...        ...       ...       ...  ...       ...       ...       ...   \n",
            "4879  0.036181 -0.007061 -0.002929  ...  0.000019 -0.014142  0.018201   \n",
            "4880  0.011340 -0.006940 -0.002600  ...  0.004332 -0.004765  0.003585   \n",
            "4881  0.022405 -0.004390 -0.006207  ... -0.006489 -0.010773  0.011643   \n",
            "4882  0.008163 -0.002169 -0.001883  ... -0.001899  0.000927  0.012902   \n",
            "4883  0.037956 -0.002687 -0.007440  ... -0.000057 -0.018539  0.022362   \n",
            "\n",
            "           143       144       145       146       147       148       149  \n",
            "0    -0.026739  0.102262  0.156552 -0.260656 -0.091037  0.082283 -0.300681  \n",
            "1     0.030528  0.142974  0.155869 -0.254003 -0.085751  0.060944 -0.301083  \n",
            "2     0.055797  0.122427  0.141543 -0.273211 -0.064552  0.085041 -0.277434  \n",
            "3     0.015827  0.117834  0.144605 -0.264616 -0.094843  0.066059 -0.290649  \n",
            "4     0.047610  0.110633  0.123310 -0.249639 -0.063271  0.079041 -0.255950  \n",
            "...        ...       ...       ...       ...       ...       ...       ...  \n",
            "4879  0.007545  0.012779  0.029744 -0.039043 -0.013837  0.008725 -0.048939  \n",
            "4880  0.008511  0.009776  0.013976 -0.016687  0.000624  0.005357 -0.029979  \n",
            "4881  0.008130  0.012472  0.015647 -0.019275 -0.003679  0.000071 -0.029158  \n",
            "4882 -0.000147  0.001432  0.015575 -0.014776  0.000100  0.010989 -0.021194  \n",
            "4883 -0.001116  0.019482  0.019075 -0.039853 -0.005985  0.017334 -0.053835  \n",
            "\n",
            "[4884 rows x 150 columns]\n"
          ]
        }
      ]
    },
    {
      "cell_type": "markdown",
      "source": [
        "## **FastText**"
      ],
      "metadata": {
        "id": "lcDWEotkQpT1"
      }
    },
    {
      "cell_type": "code",
      "source": [
        "pip install gensim"
      ],
      "metadata": {
        "id": "5f2s9bGfPFbV"
      },
      "execution_count": null,
      "outputs": []
    },
    {
      "cell_type": "code",
      "source": [
        "from gensim.models import FastText\n",
        "from nltk.tokenize import word_tokenize\n",
        "\n",
        "# Tokenisasi setiap kalimat menjadi daftar kata-kata\n",
        "tokenized_sentences = [word_tokenize(sentence) for sentence in df['Kalimat']]\n",
        "\n",
        "# Buat dan latih model FastText\n",
        "model_fasttext = FastText(sentences=tokenized_sentences, vector_size=150, window=25, min_count=1, workers=4)\n"
      ],
      "metadata": {
        "id": "oM0TbORiR5Jj"
      },
      "execution_count": null,
      "outputs": []
    },
    {
      "cell_type": "code",
      "source": [
        "words=list(model_fasttext.wv.index_to_key)\n",
        "vector_FastText = [model_fasttext.wv[word] for word in words]\n",
        "vector_FastText = np.array(vector_FastText)"
      ],
      "metadata": {
        "id": "ggBEAxN7QsMQ"
      },
      "execution_count": null,
      "outputs": []
    },
    {
      "cell_type": "code",
      "source": [
        "words[1:10]"
      ],
      "metadata": {
        "colab": {
          "base_uri": "https://localhost:8080/"
        },
        "id": "wuXzFsZQQ3eR",
        "outputId": "fa7de8df-0af8-47ce-9800-ba4c410de8b2"
      },
      "execution_count": null,
      "outputs": [
        {
          "output_type": "execute_result",
          "data": {
            "text/plain": [
              "['raja', 'si', 'sang', 'kancil', 'anak', 'puteri', 'istana', 'a', 'orang']"
            ]
          },
          "metadata": {},
          "execution_count": 114
        }
      ]
    },
    {
      "cell_type": "code",
      "source": [
        "vec_fasttext=pd.DataFrame(vector_FastText)\n",
        "print(vec_fasttext)"
      ],
      "metadata": {
        "colab": {
          "base_uri": "https://localhost:8080/"
        },
        "id": "l7EhkBo4Q6QJ",
        "outputId": "491b8f98-0ac1-472c-a761-748391f417fa"
      },
      "execution_count": null,
      "outputs": [
        {
          "output_type": "stream",
          "name": "stdout",
          "text": [
            "           0         1         2         3         4         5         6    \\\n",
            "0    -0.178200 -0.297179  0.416828  0.286388 -0.291728  0.215651 -0.890209   \n",
            "1    -0.148360 -0.247674  0.347771  0.241316 -0.241357  0.179396 -0.746582   \n",
            "2    -0.146200 -0.237473  0.333681  0.232010 -0.230617  0.174016 -0.713181   \n",
            "3    -0.429933 -0.717781  1.008868  0.694313 -0.703807  0.517780 -2.159927   \n",
            "4    -0.153019 -0.253026  0.355569  0.244433 -0.247884  0.182203 -0.760185   \n",
            "...        ...       ...       ...       ...       ...       ...       ...   \n",
            "4879 -0.250210 -0.418123  0.586246  0.401740 -0.407185  0.301244 -1.255674   \n",
            "4880 -0.215448 -0.358584  0.503411  0.346557 -0.351662  0.259069 -1.077641   \n",
            "4881 -0.254315 -0.421427  0.594860  0.409058 -0.413853  0.304118 -1.272054   \n",
            "4882 -0.165540 -0.273895  0.381821  0.264429 -0.268952  0.197484 -0.817961   \n",
            "4883 -0.203141 -0.339625  0.476911  0.328276 -0.332267  0.245810 -1.020019   \n",
            "\n",
            "           7         8         9    ...       140       141       142  \\\n",
            "0     0.602122  0.504625 -0.475022  ...  0.551462 -0.047902 -0.245312   \n",
            "1     0.504554  0.420944 -0.396023  ...  0.458589 -0.042299 -0.206651   \n",
            "2     0.480861  0.402895 -0.377548  ...  0.440688 -0.041231 -0.197744   \n",
            "3     1.457097  1.222325 -1.146647  ...  1.327358 -0.121381 -0.595702   \n",
            "4     0.516050  0.431325 -0.403533  ...  0.469046 -0.042055 -0.208902   \n",
            "...        ...       ...       ...  ...       ...       ...       ...   \n",
            "4879  0.848179  0.710061 -0.666694  ...  0.771074 -0.069880 -0.347329   \n",
            "4880  0.729077  0.610061 -0.572947  ...  0.663378 -0.059597 -0.297838   \n",
            "4881  0.860089  0.719064 -0.677843  ...  0.781292 -0.072816 -0.352528   \n",
            "4882  0.554060  0.463071 -0.435398  ...  0.504297 -0.045734 -0.226473   \n",
            "4883  0.687924  0.577472 -0.541799  ...  0.627708 -0.055685 -0.280230   \n",
            "\n",
            "           143       144       145       146       147       148       149  \n",
            "0    -0.478233 -0.729434  0.496810  0.264620  0.516047  0.329265  0.113297  \n",
            "1    -0.402035 -0.608689  0.416425  0.222151  0.429514  0.273732  0.096912  \n",
            "2    -0.381615 -0.580359  0.396436  0.212583  0.414953  0.257949  0.093763  \n",
            "3    -1.160954 -1.763169  1.202816  0.639861  1.249053  0.790143  0.279051  \n",
            "4    -0.408960 -0.619569  0.421907  0.224369  0.442001  0.277554  0.098830  \n",
            "...        ...       ...       ...       ...       ...       ...       ...  \n",
            "4879 -0.674388 -1.025524  0.701286  0.373695  0.726349  0.457734  0.164036  \n",
            "4880 -0.579651 -0.879524  0.601476  0.319963  0.626391  0.394456  0.139827  \n",
            "4881 -0.684878 -1.037363  0.709087  0.377105  0.738010  0.465405  0.163388  \n",
            "4882 -0.439866 -0.668839  0.456593  0.242839  0.476785  0.299077  0.105485  \n",
            "4883 -0.548321 -0.833312  0.568936  0.301334  0.590718  0.373504  0.132052  \n",
            "\n",
            "[4884 rows x 150 columns]\n"
          ]
        }
      ]
    },
    {
      "cell_type": "code",
      "source": [
        "# representasi kata 'malin' pada w2v dan fasttext\n",
        "word_w2v=model_w2v.wv['malin']\n",
        "word_fasttext=model_fasttext.wv['malin']\n",
        "\n",
        "print('Word2Vec:', word_w2v)\n",
        "print('FastText:', word_fasttext)"
      ],
      "metadata": {
        "colab": {
          "base_uri": "https://localhost:8080/"
        },
        "id": "Lc9YTPNrSIyZ",
        "outputId": "9b54ddaf-644c-48ee-808b-93e98bceaf8c"
      },
      "execution_count": null,
      "outputs": [
        {
          "output_type": "stream",
          "name": "stdout",
          "text": [
            "Word2Vec: [-0.04396357 -0.03990632 -0.02886433 -0.105688    0.20746963 -0.22636747\n",
            " -0.06051996  0.22015017 -0.00626191 -0.01871684  0.24128166  0.02274396\n",
            " -0.18446083  0.40127742 -0.3042639   0.05701965  0.02058132  0.05361719\n",
            " -0.14848596  0.02885894 -0.21700425  0.02378188  0.1296603  -0.15756293\n",
            " -0.09710332  0.05980825 -0.2747287  -0.16497077 -0.05537954 -0.06704765\n",
            "  0.00820155 -0.08461739 -0.19469045 -0.15234974 -0.08757959 -0.01760192\n",
            "  0.38036376  0.09263624 -0.00243479 -0.31509435  0.14602499  0.17079453\n",
            " -0.19477265  0.06884856  0.22924139 -0.04581464  0.21880174 -0.17425922\n",
            "  0.17704318 -0.00878582 -0.1227864   0.11435875 -0.12269876  0.19902974\n",
            " -0.14028524  0.16899943 -0.23505831  0.13680042 -0.00946294 -0.08574829\n",
            " -0.00688985 -0.286034    0.05701552 -0.00899219  0.1680523  -0.01705234\n",
            "  0.15044071 -0.31996137 -0.31752053 -0.2937455  -0.03174764  0.16265854\n",
            " -0.0750914  -0.28581375 -0.15067077  0.29546362 -0.2196337  -0.18551153\n",
            " -0.22943309  0.20156302 -0.07453801 -0.03514314 -0.10596927  0.39787322\n",
            " -0.09598821  0.0451581   0.0277281   0.03214654  0.20295654  0.09352777\n",
            "  0.06707703 -0.05300888  0.16502759  0.02147523  0.15065025  0.00915599\n",
            "  0.23227382  0.01339632 -0.04557454  0.13596311 -0.13462412  0.10144224\n",
            " -0.06141223 -0.01026159 -0.04834579 -0.07432263 -0.00926503  0.03831899\n",
            " -0.35667896  0.0814826  -0.273333   -0.00552497  0.06449135 -0.20860922\n",
            "  0.03526349  0.163071   -0.02754649  0.10647973  0.05236599 -0.07729051\n",
            " -0.21222548  0.22710837  0.11497246 -0.2670516  -0.0337228   0.14642315\n",
            "  0.30883402 -0.14054032 -0.16260788 -0.08393211  0.25698152  0.03378035\n",
            "  0.15557295  0.17847705  0.02999945  0.18676454 -0.43156093 -0.2173626\n",
            "  0.02173061 -0.0772697  -0.03407215 -0.08313769  0.1633587   0.00551542\n",
            "  0.08984667  0.15203469 -0.27894753 -0.05687897  0.04583459 -0.30736667]\n",
            "FastText: [-1.34095877e-01 -2.21994683e-01  3.12383026e-01  2.13798150e-01\n",
            " -2.16432020e-01  1.61237940e-01 -6.64784372e-01  4.50500339e-01\n",
            "  3.78056943e-01 -3.52634758e-01  4.30979848e-01 -8.10823366e-02\n",
            "  4.71930534e-01  2.97945857e-01 -3.56768668e-01 -2.16335699e-01\n",
            "  2.40474284e-01  9.38376598e-03 -9.11095813e-02 -5.69938794e-02\n",
            " -3.89027953e-01 -2.85665631e-01  9.67324227e-02  1.24272473e-01\n",
            " -5.55740535e-01  3.02484393e-01 -5.63721776e-01  3.96856815e-01\n",
            "  7.96611607e-02 -5.31737030e-01  2.63936788e-01 -2.38479957e-01\n",
            "  1.53560624e-01 -3.87853622e-01 -4.24298346e-01 -2.59824932e-01\n",
            " -2.77469277e-01  1.26818614e-03 -1.94101438e-01 -9.57328603e-02\n",
            " -2.46095017e-01 -1.91898420e-01 -1.85705632e-01  3.99361163e-01\n",
            "  5.19177258e-01  2.80114233e-01 -1.09597176e-01 -1.66285224e-02\n",
            "  8.07098448e-02  5.01330435e-01 -3.66217524e-01 -2.81573832e-01\n",
            "  3.35933790e-02 -4.14694905e-01  4.88706499e-01  5.76640546e-01\n",
            " -6.73340484e-02 -2.37309709e-01  1.57276601e-01 -7.51707777e-02\n",
            " -1.09208096e-02 -1.82809517e-01  8.04862753e-02  1.96561486e-01\n",
            " -9.88412276e-03  8.76134168e-03 -5.79998255e-01 -5.38905933e-02\n",
            "  3.29787195e-01  3.17839235e-02 -2.03207005e-02  1.10819772e-01\n",
            "  4.62651759e-01  5.16397471e-04 -3.18357438e-01  6.03758037e-01\n",
            "  6.03425913e-02  2.83869326e-01 -5.31369336e-02  2.72854835e-01\n",
            " -5.31443357e-02  3.99411500e-01  3.87507319e-01  5.95565438e-02\n",
            "  1.33609146e-01  2.18366727e-01 -1.26710474e-01 -1.58616304e-01\n",
            "  9.19022858e-02 -9.72179249e-02  2.40686402e-01 -3.54764372e-01\n",
            "  1.03570022e-01  1.38315156e-01  7.14682400e-01 -5.64116418e-01\n",
            "  2.39079729e-01  3.08074594e-01  2.53283262e-01  5.48247933e-01\n",
            " -2.91211128e-01  1.07731268e-01  4.85109746e-01 -1.23702928e-01\n",
            "  3.49814802e-01 -1.23520643e-01 -3.08917612e-01  4.31339443e-01\n",
            "  3.46975267e-01  2.28485689e-01  1.19652830e-01  2.61803508e-01\n",
            " -5.76213636e-02 -5.85290529e-02  6.42392114e-02  3.97735447e-01\n",
            "  2.70326704e-01  8.79972428e-02 -6.37173653e-01 -1.02746695e-01\n",
            " -3.52462083e-01  2.90895730e-01 -2.62654692e-01 -1.19382888e-01\n",
            "  4.56914216e-01  4.77018088e-01  4.23555106e-01 -2.24181488e-01\n",
            " -7.58978724e-01  1.69635490e-01  7.71470740e-02 -4.69627917e-01\n",
            "  1.88917473e-01  7.58859366e-02  8.12632516e-02  4.96749490e-01\n",
            " -7.89374486e-02 -1.53566882e-01  3.36284429e-01  3.09922360e-02\n",
            "  4.09346282e-01 -3.64326425e-02 -1.82975501e-01 -3.59290242e-01\n",
            " -5.43712795e-01  3.70073706e-01  1.95685178e-01  3.87136906e-01\n",
            "  2.42917806e-01  8.29681158e-02]\n"
          ]
        }
      ]
    },
    {
      "cell_type": "markdown",
      "source": [
        "Pada setiap model, setiap kata akan direpresentasikan dengan dimensi vektor sebanyak 150. Sesuai dengan ukuran vektor yang telah ditetapkan di awal saat model dibangun."
      ],
      "metadata": {
        "id": "PrpdO7e6VL0o"
      }
    },
    {
      "cell_type": "code",
      "source": [
        "similar_words_w2v= model_w2v.wv.most_similar('bondowoso', topn=4)\n",
        "similar_words_fasttext = model_fasttext.wv.most_similar('bondowoso', topn=4)\n",
        "\n",
        "print(f'Word2Vec - kata serupa dengan \"bondowoso\":{similar_words_w2v}')\n",
        "print(f'FastText - kata serupa dengan \"bondowoso\":{similar_words_fasttext}')"
      ],
      "metadata": {
        "colab": {
          "base_uri": "https://localhost:8080/"
        },
        "id": "z8d67z3cSY8z",
        "outputId": "225fa312-ac18-4875-b23c-07f63358c702"
      },
      "execution_count": null,
      "outputs": [
        {
          "output_type": "stream",
          "name": "stdout",
          "text": [
            "Word2Vec - kata serupa dengan \"bondowoso\":[('loro', 0.9985447525978088), ('bandung', 0.9984880685806274), ('biji', 0.9984799027442932), ('jin', 0.9984443783760071)]\n",
            "FastText - kata serupa dengan \"bondowoso\":[('berbondongbondong', 0.9999478459358215), ('diperintah', 0.9999463558197021), ('jonggrang', 0.9999458193778992), ('memainkan', 0.9999455809593201)]\n"
          ]
        }
      ]
    },
    {
      "cell_type": "markdown",
      "source": [
        "Pada kasus ini, baik model Word2Vec atau model FastText menunjukan hasil yang sesuai (kata yang mirip memang konteksnya mendekati satu sama lain) walaupun perlu beberapa peningkatan agar hasilnya lebih akurat."
      ],
      "metadata": {
        "id": "EMXy4aGOTUlu"
      }
    },
    {
      "cell_type": "code",
      "source": [
        "# untuk model word2vec pre-trained\n",
        "# inspeksi model\n",
        "print(f'ukuran vektor: {model_w2v.vector_size}')\n",
        "print(f'ukuran window: {model_fasttext.window}')\n",
        "print(f'jumlah kata vektor: {model_w2v.wv}')\n",
        "print(f'parameter W2V: {model_w2v}')"
      ],
      "metadata": {
        "colab": {
          "base_uri": "https://localhost:8080/"
        },
        "id": "OKzLEqQTSnCh",
        "outputId": "b3941620-df0d-43b8-92ca-7347db100881"
      },
      "execution_count": null,
      "outputs": [
        {
          "output_type": "stream",
          "name": "stdout",
          "text": [
            "ukuran vektor: 150\n",
            "ukuran window: 25\n",
            "jumlah kata vektor: KeyedVectors<vector_size=150, 4884 keys>\n",
            "parameter W2V: Word2Vec<vocab=4884, vector_size=150, alpha=0.025>\n"
          ]
        }
      ]
    },
    {
      "cell_type": "code",
      "source": [
        "# untuk model wfasttext pre-trained\n",
        "# inspeksi model\n",
        "print(f'ukuran vektor: {model_fasttext.vector_size}')\n",
        "print(f'ukuran window: {model_fasttext.window}')\n",
        "print(f'jumlah kata vektor: {model_fasttext.wv}')\n",
        "print(f'parameter FastText: {model_fasttext}')"
      ],
      "metadata": {
        "colab": {
          "base_uri": "https://localhost:8080/"
        },
        "id": "TXz64xZzNCR2",
        "outputId": "585be437-af9d-44dd-8178-63a6fc71404e"
      },
      "execution_count": null,
      "outputs": [
        {
          "output_type": "stream",
          "name": "stdout",
          "text": [
            "ukuran vektor: 150\n",
            "ukuran vektor: 25\n",
            "jumlah kata vektor: FastTextKeyedVectors<vector_size=150, 4884 keys>\n",
            "parameter FastText: FastText<vocab=4884, vector_size=150, alpha=0.025>\n"
          ]
        }
      ]
    },
    {
      "cell_type": "markdown",
      "source": [
        "Kedua model, menggunakan ukuran vektor yang sama yaitu 150 dan ukuran _window_ yang sama yaitu 25, ukuran _window_ 25 ditetapkan agar model bisa lebih memahami konteks tanpa menangkap konteks yang terlalu lebar (dengan _window_ yang terlalu besar)"
      ],
      "metadata": {
        "id": "LmE-vMsDUPiE"
      }
    }
  ]
}